{
 "cells": [
  {
   "cell_type": "code",
   "execution_count": null,
   "metadata": {},
   "outputs": [],
   "source": [
    "import pandas as pd\n",
    "order = pd.read_csv('instacart_2017_05_01/orders.csv')\n",
    "aisle = pd.read_csv('instacart_2017_05_01/aisles.csv')                      \n",
    "oop = pd.read_csv('instacart_2017_05_01/order_products__prior.csv')       \n",
    "oot = pd.read_csv('instacart_2017_05_01/order_products__train.csv') \n",
    "department = pd.read_csv('instacart_2017_05_01/departments.csv')                 \n",
    "product = pd.read_csv('instacart_2017_05_01/products.csv') "
   ]
  }
 ],
 "metadata": {
  "kernelspec": {
   "display_name": "Python 3",
   "language": "python",
   "name": "python3"
  },
  "language_info": {
   "codemirror_mode": {
    "name": "ipython",
    "version": 3
   },
   "file_extension": ".py",
   "mimetype": "text/x-python",
   "name": "python",
   "nbconvert_exporter": "python",
   "pygments_lexer": "ipython3",
   "version": "3.7.3"
  }
 },
 "nbformat": 4,
 "nbformat_minor": 4
}
